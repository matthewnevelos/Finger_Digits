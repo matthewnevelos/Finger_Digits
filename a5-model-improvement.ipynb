{
 "cells": [
  {
   "cell_type": "markdown",
   "metadata": {},
   "source": [
    "# 0. How to run\n",
    "\n",
    "- Open anaconda prompt to this directory\n",
    "\n",
    "- Use `conda activate endg411` \n",
    "- - If you have an environment with PyTorch CUDA installed please use. Everything will still work but there are features only available with CUDA"
   ]
  },
  {
   "cell_type": "markdown",
   "metadata": {},
   "source": [
    "# 1. Introduction\n",
    "\n",
    "Describe the approach chosen, reason for choosing it and how you implemented it.\n"
   ]
  },
  {
   "cell_type": "markdown",
   "metadata": {},
   "source": [
    "1) Combined a2, a3, a4 into one coherant program with added features for a more streamline development\n",
    "\n",
    "2) Used \n",
    "- AlexNet\n",
    "- DenseNet121\n",
    "- EfficientNet_b0\n",
    "- EfficientNet_b1\n",
    "- GoogleNet\n",
    "- MnasNet0_5\n",
    "- MnasNet1_0\n",
    "- MobileNetV2\n",
    "- MobileNet_v3_small\n",
    "- ResNet18\n",
    "- ResNet50\n",
    "- SqueezeNet1_0\n",
    "- SqueezeNet1_1\n",
    "- VGG13_bn\n",
    "- VGG16 \\\n",
    "On the first dataset `digits_1.0` to find the most accurate model\\\n",
    "`DenseNet121` was the most accurate model with an error rate of `0.67%`\n",
    "\n",
    "3) Trained DenseNet on the OneDrive link of photos\n",
    "\n",
    "4) Took more photos myself with different attributes such as \n",
    "- Different lighting\n",
    "- Different camera\n",
    "- wearing gloves\n",
    "- etc.\n",
    "5) Again used DenseNet to train a model based on the updated dataset\n",
    "\n",
    "6) If time allows, add a CAM window to the program and add an analysis using it"
   ]
  },
  {
   "cell_type": "markdown",
   "metadata": {},
   "source": [
    "# 2. Model training and Results\n",
    "Any code to train a model and produce results or a reference to the notebook/code file."
   ]
  },
  {
   "cell_type": "markdown",
   "metadata": {},
   "source": [
    "See [Notebook](Finger%20Digit%20Trainer.ipynb) to train models\n",
    "\n",
    "![DenseNet121 Confusion Matrix](Projects\\digits_1.0\\results\\DenseNet121.png)\n",
    "\n",
    "See [DenseNet Results](Projects\\digits_1.0\\models\\DenseNet121.txt) for data about training"
   ]
  },
  {
   "cell_type": "markdown",
   "metadata": {},
   "source": [
    "# 3. Summary and Conclusion\n",
    "Summarize your new results and state your a3 and a4 results.\n",
    "\n",
    "\n",
    "Conclusion: How large is the improvement in the performance of the classifier due to the approach chosen? Include your interpretation why it worked (or did not work)."
   ]
  },
  {
   "cell_type": "markdown",
   "metadata": {},
   "source": [
    "# 4. Reflection\n",
    "Include a sentence or two about\n",
    "- what you liked or disliked,\n",
    "- found interesting, confusing, challangeing, motivating\n",
    "\n",
    "while working on this assignment.\n",
    "\n",
    "*YOUR ANSWER HERE*\n",
    "\n"
   ]
  },
  {
   "cell_type": "code",
   "execution_count": null,
   "metadata": {},
   "outputs": [],
   "source": []
  }
 ],
 "metadata": {
  "kernelspec": {
   "display_name": "Python 3 (ipykernel)",
   "language": "python",
   "name": "python3"
  },
  "language_info": {
   "codemirror_mode": {
    "name": "ipython",
    "version": 3
   },
   "file_extension": ".py",
   "mimetype": "text/x-python",
   "name": "python",
   "nbconvert_exporter": "python",
   "pygments_lexer": "ipython3",
   "version": "3.10.13"
  }
 },
 "nbformat": 4,
 "nbformat_minor": 4
}
